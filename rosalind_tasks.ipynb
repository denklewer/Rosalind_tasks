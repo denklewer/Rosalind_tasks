{
 "cells": [
  {
   "cell_type": "code",
   "execution_count": null,
   "metadata": {
    "collapsed": true
   },
   "outputs": [],
   "source": []
  },
  {
   "cell_type": "markdown",
   "source": [
    "# 1.Counting nucleotides"
   ],
   "metadata": {
    "collapsed": false
   }
  },
  {
   "cell_type": "code",
   "execution_count": 2,
   "outputs": [
    {
     "name": "stdout",
     "text": [
      "202 200 209 191\n"
     ],
     "output_type": "stream"
    }
   ],
   "source": [
    "def get_file_content(path):\n",
    "    with open(path) as f:\n",
    "        lines = f.readlines()\n",
    "        content = \"\"\n",
    "        for line in lines:\n",
    "            content += line\n",
    "    return content\n",
    "\n",
    "content = get_file_content(\"data/1_counting_nucleodites\")\n",
    "print(*map(content.count, [\"A\",\"C\",\"G\",\"T\"]))\n"
   ],
   "metadata": {
    "collapsed": false,
    "pycharm": {
     "name": "#%%\n",
     "is_executing": false
    }
   }
  },
  {
   "cell_type": "markdown",
   "source": [
    "# 2.Transcription DNA into RNA nucleotides"
   ],
   "metadata": {
    "collapsed": false
   }
  },
  {
   "cell_type": "code",
   "execution_count": 3,
   "outputs": [
    {
     "name": "stdout",
     "text": [
      "CUUCUCGGGCAUGCCUCUUACUGCGUGCUGUUCUAUUCUCCUGGGGGUUACGUGUACCGGGAUUGCCGGGGCGGAUAGUAAUAAGCACAGCGCUAUCUGGUUACUUACAAAAGAAAUCCGGUUCAGCUAGAGUACGACCCGAAGAUUCGGUAAGGUAUUAGUAAUAUCACAACUAGGUGCCGACUUCCCACCCUCAUCUGUGAACGUAAUCACGUCGAGUAAUUAUGUCUUCCUUGCCAGACAUCAGCUAUGCCCAGGGCGGUGUAUGUCUGCUGUUGUAAUUCUAUCGUGUACGCAUCUAUCCAACGUGUAUGCUAAAUACGCCCACAGCGCCCAACGUACCUCAGAGCGACGUCAUGGCCGCAGGAUGCGCCAAUUACUCUUAGAAUAAGGGUCGCCGGAUGUGUGUUGAUUUGUAUGGUGUCCCUUUAGCUCCGCAUACAUCAUAAACUCGUUCAGAAUUGAUUUACAGUGCGAAUUGGGCAACCCUACUAUUCCCGUAGACUAACGAAAUAACGGCCACCAAUAAGGGUUAGGGUUCCCCACCGCAUGUGGCACGUGGUAAAGUCUUAUCGGAUUGACAAUCUCCCGUCGCGUUAGCUCACUCUGGCUACCUUUAUAUUGCUUCAAGACAGAAAUCUCUCGUUUAGCUCUCCAUGCUUCAUUCCUACCGUGAUAUCGAUAAAGUGUACCUUUAUAGCCCGUUAAGGCUGCCUCAGACGGGUAGAUGAAUCCUAGGGGGAAAGCCCUCCUCAGCCACACAUUGACUGAACGAGUGCUGCGUUAGACUUGUAAGGUAGGGGAUGCUUUGGGUGACGGCACAUGGUCGGCGUGGAAAUCCCAAAAGGCUCAUCCCUAUAAGCGUGGAUCCCGACAAUCCGGACCGACAAACGCUAAAGCUUUUGUAACAUGAUCAUAUUGCGCAAGCCCAUGCAGUUAUAAACGUGCUAUUGGAGGGCCGGCCCAGUGUGAAUCUUGAGUGUGCCUUCCGACUAGCC\n",
      "\n"
     ],
     "output_type": "stream"
    }
   ],
   "source": [
    "content = get_file_content(\"data/2_transcripting.txt\")\n",
    "print(content.replace(\"T\", \"U\"))\n",
    "\n"
   ],
   "metadata": {
    "collapsed": false,
    "pycharm": {
     "name": "#%%  \n",
     "is_executing": false
    }
   }
  },
  {
   "cell_type": "markdown",
   "source": [
    "# 3.Reverse compelemented\n"
   ],
   "metadata": {
    "collapsed": false,
    "pycharm": {
     "name": "#%% md\n",
     "is_executing": false
    }
   }
  },
  {
   "cell_type": "code",
   "execution_count": 4,
   "outputs": [
    {
     "name": "stdout",
     "text": [
      "\n",
      "CGACAGGTGTTACACTCATCCTAACAAGGAGTAAGCCGTACAGCGTACAACGTGCTCCCCAGATTAGACATGGGGTGCTTGTGACTCCTACCTACGCACCTTAAGCCTGCAAAGCCATTTCGTCGACGTCATCACCGCCTCGGCACTTCTCTACTCATCTAGACCACTGCATAAGTGCAACCTGTTGCTGGTCCAGTGCCAAGATGCGAATTGCTATCATCGGCACGGGAGCTTCGTGGTTGCCAAGGTTTGTAGCTAGTCAGTCTTCAAAGGCGCTTCAGATATTGCAGCTATTGTACGAAGCGTACCTGCAAAGAACTACTCCGAACGTCATTATCACGAACGATACGGTCCCAGTCAATGAACGTTTCGCAGTGATCACACAGCTTAACATCCTAGCGCACAGGCCTGTCGACACCTTCATGTATGTGCATTTCGAGGCTCACATGGACACTGACGCTACATCCTAACCTGAAGTAGGCGTGAATGGTGGTTACCACCCCGTTCTTGCCCCCATAAGTAGTAAACTTCAAAGTCAAGTGGCGTTCCTGATGTACTATCCTATGTTAGTTAATTAAAAGATCCGTGTCGTTACATGTCTCGGAAAGACTTGATGTCGCGCCACGCAGCTCCAACGTATAGTGATCGTGCCGTGTATTTTGTAGTTGATTACTCGCCTGTTTTCTTTCGTCAGGGAAAGCTAGCCCCCGTAATTTCTGCATCAAACGAGAAGTTCGTGACCTCCATAATTCCAGCGTGCCAAGTCTAGAGTCTGTGTAATTAATGGTAACGTTTACGTTGATCCTTTCGAATTTTTATGGTAGCTTAATCCTCAAGTCAACGCCTTTCCCGCTGCCGCCCTGTTGGGTTAAGACGCGGGTCCCTTTGCCTAGTTACTGGTACGATCTCAAATGTTCGGA\n"
     ],
     "output_type": "stream"
    }
   ],
   "source": [
    "content = get_file_content(\"data/3_rosalind_revc.txt\")\n",
    "print(content[::-1].translate(str.maketrans('ACGT', 'TGCA')))\n"
   ],
   "metadata": {
    "collapsed": false,
    "pycharm": {
     "name": "#%%\n",
     "is_executing": false
    }
   }
  },
  {
   "cell_type": "markdown",
   "source": [
    "# 4.Rabbits and Recurrence Relations"
   ],
   "metadata": {
    "collapsed": false,
    "pycharm": {
     "name": "#%% md\n"
    }
   }
  },
  {
   "cell_type": "code",
   "execution_count": 5,
   "outputs": [
    {
     "name": "stdout",
     "text": [
      "18788331166609\n"
     ],
     "output_type": "stream"
    }
   ],
   "source": [
    "content = get_file_content(\"data/4_rabbits_relations.txt\")\n",
    "n, k = map(int,content.split())\n",
    "f_n1 = 1\n",
    "f_n2 = 1\n",
    "for i in range (0, n-2):\n",
    "    f_n1, f_n2 = f_n2, f_n1 * k + f_n2\n",
    "print(f_n2)"
   ],
   "metadata": {
    "collapsed": false,
    "pycharm": {
     "name": "#%%\n",
     "is_executing": false
    }
   }
  },
  {
   "cell_type": "markdown",
   "source": [
    "# 5.Computing GC Content"
   ],
   "metadata": {
    "collapsed": false,
    "pycharm": {
     "name": "#%% md\n",
     "is_executing": false
    }
   }
  },
  {
   "cell_type": "code",
   "execution_count": 6,
   "outputs": [
    {
     "name": "stdout",
     "text": [
      "6\n"
     ],
     "output_type": "stream"
    }
   ],
   "source": [
    "from collections import Counter\n",
    "c = Counter(\"aaacccbbb\")\n",
    "filt = filter(lambda x: x[0] in [\"b\", \"c\"],c.items())\n",
    "cc = dict(filt)\n",
    "# print(sum(filter(lambda x: x[0] in [\"b\", \"c\"],c)))\n",
    "print(sum(cc.values()))"
   ],
   "metadata": {
    "collapsed": false,
    "pycharm": {
     "name": "#%%\n",
     "is_executing": false
    }
   }
  },
  {
   "cell_type": "code",
   "execution_count": 7,
   "outputs": [
    {
     "name": "stdout",
     "text": [
      "Rosalind_9457\n",
      "53.629\n"
     ],
     "output_type": "stream"
    }
   ],
   "source": [
    "import functools\n",
    "import operator\n",
    "from collections import Counter\n",
    "\n",
    "\n",
    "content = get_file_content(\"data/5_gc_content.txt\")\n",
    "\n",
    "\n",
    "with open(\"data/5_gc_content.txt\") as f:\n",
    "    cur_id = \"\"\n",
    "    cur_length = 0\n",
    "    cur_count = 0\n",
    "    max_count = 0\n",
    "    max_id = \"\"\n",
    "    for line in f:\n",
    "        line = line.rstrip('\\n')\n",
    "        if line.startswith(\">\"):\n",
    "            if cur_count >= max_count:\n",
    "                max_id = cur_id\n",
    "                max_count = cur_count\n",
    "                max_length = cur_length\n",
    "            cur_id = line.lstrip('>')\n",
    "            cur_count = 0\n",
    "            cur_length= 0\n",
    "        else:\n",
    "            cur_length += len(line)\n",
    "            c = Counter(line)\n",
    "            cur_count += c[\"C\"] + c[\"G\"]   \n",
    "    if cur_count >= max_count:\n",
    "        max_id = cur_id\n",
    "        max_count = cur_count\n",
    "        max_length = cur_length\n",
    "    print(max_id)\n",
    "    print(round(max_count / max_length * 100,4))\n"
   ],
   "metadata": {
    "collapsed": false,
    "pycharm": {
     "name": "#%%\n",
     "is_executing": false
    }
   }
  },
  {
   "cell_type": "markdown",
   "source": [
    "# 6.Hamming Distance"
   ],
   "metadata": {
    "collapsed": false,
    "pycharm": {
     "name": "#%% md\n"
    }
   }
  },
  {
   "cell_type": "code",
   "execution_count": 8,
   "outputs": [
    {
     "name": "stdout",
     "text": [
      "496\n"
     ],
     "output_type": "stream"
    }
   ],
   "source": [
    "with open(\"data/6_hamming_distance\") as f:\n",
    "    line1 = f.readline()\n",
    "    line2 = f.readline()\n",
    "    counter = 0\n",
    "    for c1, c2 in zip(line1,line2):\n",
    "        if c1 != c2:\n",
    "            counter+=1\n",
    "    print(counter)\n",
    "            \n",
    "        "
   ],
   "metadata": {
    "collapsed": false,
    "pycharm": {
     "name": "#%%\n",
     "is_executing": false
    }
   }
  },
  {
   "cell_type": "markdown",
   "source": [
    "# 7.Mendel's First Law"
   ],
   "metadata": {
    "collapsed": false,
    "pycharm": {
     "name": "#%% md\n"
    }
   }
  },
  {
   "cell_type": "code",
   "execution_count": 9,
   "outputs": [
    {
     "name": "stdout",
     "text": [
      "0.6865\n"
     ],
     "output_type": "stream"
    }
   ],
   "source": [
    "import sys\n",
    "with open(\"data/7_mendel_first\") as f:\n",
    "    content = f.readline()\n",
    "\n",
    "stream= sys.stdout\n",
    "k,m,n= list(map(int,content.split()))\n",
    "org=k+m+n\n",
    "prob_with_k= 1 # when first is AA\n",
    "prob_with_m= 1*k/(org-1)+\\\n",
    "             0.75*(m-1)/(org-1)+\\\n",
    "             0.5*(n/(org-1)) ##when first is Aa\n",
    "prob_with_n= 1*(k/(org-1))+\\\n",
    "             0.5*(m/(org-1)) # when first is aa\n",
    "\n",
    "result = prob_with_k*(k/org)+prob_with_m*(m/org)+prob_with_n*(n/org)\n",
    "print(round(result, 4)) # full probability"
   ],
   "metadata": {
    "collapsed": false,
    "pycharm": {
     "name": "#%% \n",
     "is_executing": false
    }
   }
  },
  {
   "cell_type": "markdown",
   "source": [
    "# 8.Translating RNA into Protein"
   ],
   "metadata": {
    "collapsed": false
   }
  },
  {
   "cell_type": "code",
   "execution_count": 10,
   "outputs": [
    {
     "name": "stdout",
     "text": [
      "UUU F      CUU L      AUU I      GUU V                   UUC F      CUC L      AUC I      GUC V                   UUA L      CUA L      AUA I      GUA V                   UUG L      CUG L      AUG M      GUG V                   UCU S      CCU P      ACU T      GCU A                   UCC S      CCC P      ACC T      GCC A                   UCA S      CCA P      ACA T      GCA A                   UCG S      CCG P      ACG T      GCG A                   UAU Y      CAU H      AAU N      GAU D                   UAC Y      CAC H      AAC N      GAC D                   UAA Stop   CAA Q      AAA K      GAA E                   UAG Stop   CAG Q      AAG K      GAG E                   UGU C      CGU R      AGU S      GGU G                   UGC C      CGC R      AGC S      GGC G                   UGA Stop   CGA R      AGA R      GGA G                   UGG W      CGG R      AGG R      GGG G\n",
      "['UUU', 'F', 'CUU', 'L', 'AUU', 'I', 'GUU', 'V', 'UUC', 'F', 'CUC', 'L', 'AUC', 'I', 'GUC', 'V', 'UUA', 'L', 'CUA', 'L', 'AUA', 'I', 'GUA', 'V', 'UUG', 'L', 'CUG', 'L', 'AUG', 'M', 'GUG', 'V', 'UCU', 'S', 'CCU', 'P', 'ACU', 'T', 'GCU', 'A', 'UCC', 'S', 'CCC', 'P', 'ACC', 'T', 'GCC', 'A', 'UCA', 'S', 'CCA', 'P', 'ACA', 'T', 'GCA', 'A', 'UCG', 'S', 'CCG', 'P', 'ACG', 'T', 'GCG', 'A', 'UAU', 'Y', 'CAU', 'H', 'AAU', 'N', 'GAU', 'D', 'UAC', 'Y', 'CAC', 'H', 'AAC', 'N', 'GAC', 'D', 'UAA', 'Stop', 'CAA', 'Q', 'AAA', 'K', 'GAA', 'E', 'UAG', 'Stop', 'CAG', 'Q', 'AAG', 'K', 'GAG', 'E', 'UGU', 'C', 'CGU', 'R', 'AGU', 'S', 'GGU', 'G', 'UGC', 'C', 'CGC', 'R', 'AGC', 'S', 'GGC', 'G', 'UGA', 'Stop', 'CGA', 'R', 'AGA', 'R', 'GGA', 'G', 'UGG', 'W', 'CGG', 'R', 'AGG', 'R', 'GGG', 'G']\n",
      "{'UUU': 'F', 'CUU': 'L', 'AUU': 'I', 'GUU': 'V', 'UUC': 'F', 'CUC': 'L', 'AUC': 'I', 'GUC': 'V', 'UUA': 'L', 'CUA': 'L', 'AUA': 'I', 'GUA': 'V', 'UUG': 'L', 'CUG': 'L', 'AUG': 'M', 'GUG': 'V', 'UCU': 'S', 'CCU': 'P', 'ACU': 'T', 'GCU': 'A', 'UCC': 'S', 'CCC': 'P', 'ACC': 'T', 'GCC': 'A', 'UCA': 'S', 'CCA': 'P', 'ACA': 'T', 'GCA': 'A', 'UCG': 'S', 'CCG': 'P', 'ACG': 'T', 'GCG': 'A', 'UAU': 'Y', 'CAU': 'H', 'AAU': 'N', 'GAU': 'D', 'UAC': 'Y', 'CAC': 'H', 'AAC': 'N', 'GAC': 'D', 'UAA': 'Stop', 'CAA': 'Q', 'AAA': 'K', 'GAA': 'E', 'UAG': 'Stop', 'CAG': 'Q', 'AAG': 'K', 'GAG': 'E', 'UGU': 'C', 'CGU': 'R', 'AGU': 'S', 'GGU': 'G', 'UGC': 'C', 'CGC': 'R', 'AGC': 'S', 'GGC': 'G', 'UGA': 'Stop', 'CGA': 'R', 'AGA': 'R', 'GGA': 'G', 'UGG': 'W', 'CGG': 'R', 'AGG': 'R', 'GGG': 'G'}\n",
      "MLSTVHPRKRKLAVHIKQRRSTNSGCFQIVNPTSTFNACLYRSATGTDTFSKTLMSFRLTQRSRHARRSPTPVLQQLMWVYGNSSCSVKSLNNRSGGVYGGSSHNPGSPLGGSESCNELVISRTHVLPRQRVKVDLQDNAARQLFNSNPWGLHLSERGTTSLLPQSLCSVCRRVVQTCFGTVRELPVEEHQLRVQYWVICVPAFSGCRLFATADKLACLDGNAGLVAYPPQGLPRYPNSSFRAGQTRRSLDPTGGLTPRPCGTTDWSNQSRALRRDRMLQNVGAGSICYAPYSGPSYKHQSCKRSLVPSVVRLKVFPLLLTPNARLIQIPLSTLRNVGSGRMNLPTTRSLQSKPATFLTTGAEPVRVAESHSAASSRPLLAHSHLLSYVVFQGAKSLTRTIRANLDKLRREYGILYAWADGKYSVFHAEIGFLARDMCYKLDWPVVEILLPYATVAMSCKYYKRRTSSYCQWNYVLLYARAEILRHGLYKVLSESMLQKRVSVILPLKSRTQQCCLILRMNVVTLNLSSAALSGYIKLITDLKLNPTNFDTCSSFLTTTTILENIVTLRCRDSNRIFFKSMLHLCASSVEVVLVGGPERSSDCALCHCTSPISESRYPHCSHIHLRGYKKPNSCITMTDRGRSWICPSATRRRDQGGGLVRISRHASCQSVQSLPFLLLRQALLWLDIFLHPETSPTRMYISIRTELKFGNSIVELSSQGLWCSELDHVVWGAARFFSRQANPLASKRLRHGKTCPRSLSLRCQLLHDFVSEIEKLCRAKCVGNLNGARPLSGDPHRPAHRSSGWAERDPRVMHFQFRGERLLPLDSNSSNNCCLSDYSIHPRSCFQPKPDEAAARPVSRSIIGLWGLTIITCPFPGHRCPPRLATLTPFPVSWLAPFGKPPLVFSTSPELRQSSHALRRRIAIREDTMHVWINNNVHLQSLNSRHSWNTEPPFVYEVGYTVTAQVRAVPGRAALPPVSYVNHVFIQRSKSRRPGHFSGARRGSNCQWRLPHISLLGPKMSGVRMLLLGSLCIFRPARPSLEVSWSLRHTIRAKQLCTQGWIRINTLPIRLADPILPLKTFSLKVSNAPPFPMSYLQPSAGSRPVSIEGSGGDTYVTCILSLVPILTPHFVLKHKGLCACRRSAVLDRRRRPVWCKAAVILTEPWLLSVAAVEAFGRGSYIKIWSMPMLYTLRVKNHRFTELSLSAWNPIRRPHSMITSRSIDLVSRPRRKVGRGASAANALSRSSPKHQQGVGATNEPKLTGREWMMHDLSLAGYGTGNLPSLLLTCEISVFAPYGVSIDRNTSGSLTTCGFFDHLSLQIVERDRANLGKFPRPVARTPTTGHSGLTRMHTCSMSSPAFILMPILTPSHCIGCLTFLANGSGSSVPIGPKIRGRRCNAPLSDRALSVTLYWPIYQYLSECGWFQSSTRCQHAPGGPTILGESHLFPDRKPKPDRILRGFSEVYGPRSHQIRSRSMRAQMTLEGLLSQAELTSIWTVAPPPMRDTSTRGNAKVTRFRNLGCFATDHPRTQYLRDGLHPPKPWIMSHGGVTSPSTVGVKLQVQIHCPDDYFGHFLNPVLTNTRRCSYTGGILGHRMSKMSGVTGLIRTVVSWRACQALRHAIHRYMVLGVLETSKRADRRSSLSLVTRPPLDPSLMKHAARQCVCPEITAGTSLFTRARAQSNLIPGVERINSAVSWTYSFMILRKAVRRTLHVTHRYETSLPLGPSCTHGQSTLCFRSRYRYLLALPVLYKYQNYLSIIDGVYAYLSSRETYIAYTEMSTCIRFGWARRISTHNSQVNRISLSTTFPIVFCIFPLHLCLSSAESHRQRVGSPIGDQCHLTGQNGSQYVFLLIQGWTHVCLRRQRCAVRLTDLLRPERCRRAATLVRLVLLQAGLISYRNGKALMLAWLPVSLAAQNNSSSISAPSETLGSTRFLSRTTRYGNTPCSAFKVARETAGGAWLNWDRLRLVIVSQYVLWTFHMPVGMPLLGLAALASCCAQCLDMAKLIRSGPGMRLGSFSLVRRPRHGWFKVVSGEHTIYRTGPGAIWALVFEITLDGYHSSVYMNYFPGCRSDKEAVRRMKHCVPPDSWMRSSSGRSYLALSSPKYSLIQFRSQLAARPSSRNADPLGFTNFLLRAVKGPERCNLSLDRPYRSQLLKKIGQAGRTRLFLKPSAMGSTITYNIREGTSAEVHGVCNCTIEAPLHLLINLSRIRCSFASRRKLVRWEVWGDASNRSGYKGVTKTIGLATLWTEFSTGKRTSTAVANSEIAIILILAEFRTVDRFRASGLPCLSLTQRRRPTRSASENVKSRENNHAAPIRKGLSQLGMLPGHSALNSLAGQSLVRLSPMAQRLITIRYGTTSRIHLISYYFLRVASVITGQRLMYTEELSDLAQSVLQLWYHSHRGSDLHPRSSIFQTSLTTVRYRASIGVVRVTGLCRHAAPSTHISRPVPKLRGDSVAIRWWIEMYQCVEYGMRLTGLKSRGLALKDGLRSRQPRTTPPQLPKVANRYPVIPYSDEGPLRVCRSGTRRMINQSLRESVAYAGLIEFRIVDESAVQGWRYNGVSRTNGGKVSSRGQANLTTPPFCLPGSQPSRCAQLNTSFFRYVYARTAIVECAKDAYITSHFSRIAKDGLTCPFKVPATTNSVREPAMVCWAFQGNCVSALWTEGAHGYLHTCTSISLRTDGACTIHYKGRLGLEGYHISHISLWFLHYESEFVNRYCGYVSFTACKQRSERCHFHESIGTHLWPIPSEHTMNAVGVNTSEHLIVPKRVGGTLGGVSNGNQFHPCCEPILVKDASSFAEGSTRVIPRNQCMPPVYAYSSYLGLVYSALSRRFRLWKTAYIADALAFSLSKRFLSNIRLGLLIGVTGCCANSLDVIVIRGPSDGRLKEYHSSLATVLESLNARCAYITATATTDTDWRNANPSPYTTLAGAVQTGEIASNTVDQSQSRSSSKDMLSRRRGNWHSQPTLNWVNYGVRFPRRCFRRRVALALCSPFLLRIARSPQLTSIGGSRTNELSVIKILSRRSHFLFLYSQSKSCLRAGGEHRDLGTKRCNSTWCDLALLAVPAVHLSVLIKTDEILRTPAALHWKNVDPHRKVRLGNTPTIRRSDTPHWGVAVPLARWMVALAADQWQELSSDLRNFATPQAQAYLRQDPPVEDIGEKHTQGALASSHGHRFQLMITSISMMQLECPRISVRRPAWPREQAEIRDRGCNHHTNCNQSYVIRRVDLTAASNEHSYALCPRQRMICLLGDGAGGRPHVMALLPKEWPGLLMTRPIGCAVLALVLAHSESIATIMRPSYHIKGGYPGGAATAIPRNRHI\n"
     ],
     "output_type": "stream"
    }
   ],
   "source": [
    "from itertools import islice\n",
    "coding_table = \"UUU F      CUU L      AUU I      GUU V   \\\n",
    "                UUC F      CUC L      AUC I      GUC V   \\\n",
    "                UUA L      CUA L      AUA I      GUA V   \\\n",
    "                UUG L      CUG L      AUG M      GUG V   \\\n",
    "                UCU S      CCU P      ACU T      GCU A   \\\n",
    "                UCC S      CCC P      ACC T      GCC A   \\\n",
    "                UCA S      CCA P      ACA T      GCA A   \\\n",
    "                UCG S      CCG P      ACG T      GCG A   \\\n",
    "                UAU Y      CAU H      AAU N      GAU D   \\\n",
    "                UAC Y      CAC H      AAC N      GAC D   \\\n",
    "                UAA Stop   CAA Q      AAA K      GAA E   \\\n",
    "                UAG Stop   CAG Q      AAG K      GAG E   \\\n",
    "                UGU C      CGU R      AGU S      GGU G   \\\n",
    "                UGC C      CGC R      AGC S      GGC G   \\\n",
    "                UGA Stop   CGA R      AGA R      GGA G   \\\n",
    "                UGG W      CGG R      AGG R      GGG G\"\n",
    "\n",
    "print(coding_table)\n",
    "table_list = coding_table.split()\n",
    "print(table_list)\n",
    "protein_dict=dict(zip(islice(table_list, None, None, 2), islice(table_list, 1, None, 2)))\n",
    "print(protein_dict)\n",
    "\n",
    "content = get_file_content(\"data/8_translating_rna_into_protein.txt\")\n",
    "result = \"\"\n",
    "for i in range(0, len(content), 3):\n",
    "    if protein_dict[content[i:i+3]] != \"Stop\":\n",
    "        result += protein_dict[content[i:i+3]]\n",
    "print(result)\n"
   ],
   "metadata": {
    "collapsed": false,
    "pycharm": {
     "name": "#%%\n",
     "is_executing": false
    }
   }
  },
  {
   "cell_type": "markdown",
   "source": [
    "# 9.Finding a Motif in DNA"
   ],
   "metadata": {
    "collapsed": false,
    "pycharm": {
     "name": "#%% md\n"
    }
   }
  },
  {
   "cell_type": "code",
   "execution_count": 11,
   "outputs": [
    {
     "name": "stdout",
     "text": [
      "11 18 25 54 75 82 143 150 205 212 230 278 301 357 364 371 378 393 400 418 450 457 502 509 551 582 615 659 666 673 702 709 784 824 831 851 885 902 909\n"
     ],
     "output_type": "stream"
    }
   ],
   "source": [
    "import re \n",
    "\n",
    "with open(\"data/9_motifs\") as f:\n",
    "    dna = f.readline()\n",
    "    motif = f.readline()\n",
    "\n",
    "res = []\n",
    "cur_pos=-1\n",
    "while(True):\n",
    "    cur_pos=dna.find(motif,cur_pos+1)\n",
    "    if(cur_pos==-1):\n",
    "        break\n",
    "    res.append(cur_pos + 1)\n",
    "print(\" \".join(map(str, res)))"
   ],
   "metadata": {
    "collapsed": false,
    "pycharm": {
     "name": "#%%\n",
     "is_executing": false
    }
   }
  },
  {
   "cell_type": "markdown",
   "source": [
    "# 10.Consensus and Profile"
   ],
   "metadata": {
    "collapsed": false,
    "pycharm": {
     "name": "#%% md\n"
    }
   }
  },
  {
   "cell_type": "code",
   "execution_count": 12,
   "outputs": [
    {
     "name": "stdout",
     "text": [
      "GGGGATAAAAAGTGATTTCAAAAGTAGGTCATTAGGAGGTTCAATGAACGTAGGCCCCAGAAGAGAAGTCCCCCCGGACTTTTCCACTGTACCAGCGAATTCAATTCGTTACAACTCGAATGAGACTGAATTCAAGAGCAAGCTAGCAGCTCATCAAACCTACACACAGCAGACGCGACCAGCAGCCGGGGAGAAGCCTGAAATGACACAACAAAGAAACCAGACCAGACGCACGCACGGTTCATCCTGCACCCGCCTAACCTTCTATATACCGTAGGCTGGCTTAAGAATCGTATCCAAATGCCCGGGCAAACTTTACAACCCCTGCGATACGCTCTCGAGAGGAATATCAAGGATATGTCACTTTGAAGGTGCTCAGGCAGGGACTAAAGAGGTTAACAAGACCATCATAGACTGCGTCTCTAGTAACGGACGAGCCACGGGGTGGGATACCACTGTACCAGCCACAACTACCCATAACAACCCCAATAAGTATTTCCGCCTACACAAAACAACAACTCCCGACCATGTCAAAAGTACCTGACTCGAAACGGATACTATCCGAGCTCGGAATACATAGCTGACCTGACGAGACAAAACCTCATAGACTCTATCGGCTAGGCCATGAACCTCCCTGTTACCAACTCAGAAATTGAGAATTCAACTTCTCCGAAGGAGAGCGGCACGGGAACCACCGCCGCACCATAATAGAGACGCGTATGACACCGGGTAGACTCTCGCCGGTCGGACTAACAAAAAGTCCAACTACCACCCCCCACGAACAACACGTTAAAGAACCCGTGAGTCGCTACGACAAGTCACGAGCACAAGATGAATGCCATCAAGACCAATGCGATCCGACAAGCTAAATTACTAAACAACCCGGATGCAATGCTTGTTAAGCATACTAAAT\n",
      "A: 1 2 2 3 3 3 3 4 4 6 3 1 1 0 3 3 3 1 3 5 4 4 5 2 1 4 1 2 1 3 5 2 3 6 3 1 4 2 3 2 3 3 4 3 1 2 5 3 2 2 0 3 0 2 2 3 2 2 5 2 3 3 3 4 1 6 3 3 2 1 2 3 2 1 0 0 2 5 3 2 2 3 2 1 1 3 3 2 2 1 3 3 2 6 3 2 2 3 4 3 2 2 3 3 1 3 1 3 1 2 3 2 3 5 1 2 3 1 4 6 3 2 5 2 5 1 4 0 3 4 1 2 2 4 3 3 4 1 1 3 3 1 3 3 4 2 3 3 1 2 1 1 4 0 1 3 3 4 1 1 1 3 2 3 2 4 1 4 1 2 4 2 4 2 3 1 1 3 1 1 4 1 1 4 2 1 0 1 3 0 1 3 1 4 3 2 2 2 2 2 4 3 6 1 2 4 2 3 2 4 4 2 4 4 4 2 3 3 3 2 1 4 2 5 3 1 4 2 3 3 2 2 3 0 1 2 5 2 2 3 0 4 2 3 3 1 2 2 3 1 4 2 2 2 2 1 2 1 3 3 1 2 3 3 1 3 3 3 4 3 4 3 4 1 0 5 3 2 2 3 2 1 2 2 1 3 3 2 5 3 2 3 2 1 4 2 2 0 3 4 3 3 0 2 2 0 2 1 1 3 4 6 4 2 1 1 3 3 2 4 4 2 1 2 1 1 2 2 1 4 3 3 0 3 2 2 1 0 2 0 3 2 4 2 2 4 3 0 4 2 2 5 4 2 2 3 1 3 1 3 0 1 3 1 2 0 2 1 4 4 1 1 2 1 2 3 2 3 2 3 2 4 2 2 0 4 2 2 3 5 5 2 3 0 2 2 0 3 4 2 3 5 0 4 3 2 4 2 3 4 3 3 2 3 2 1 2 2 1 0 1 2 2 2 4 2 1 5 4 2 1 2 3 2 1 3 3 3 2 3 2 3 1 0 3 2 3 2 2 3 2 4 3 0 4 1 2 3 1 4 3 1 5 3 0 2 5 2 5 4 2 2 3 2 1 2 3 1 3 3 2 5 3 0 2 1 3 6 5 4 4 4 0 2 4 2 2 3 2 0 2 1 2 0 4 2 3 1 4 5 4 4 2 3 3 2 5 6 2 1 0 2 2 0 3 1 2 4 1 2 2 2 4 4 3 4 1 2 4 1 2 2 2 4 1 2 3 3 3 3 5 2 2 2 3 2 3 1 0 5 4 1 2 1 3 2 2 1 2 1 1 3 3 2 3 3 3 0 3 0 3 0 2 5 2 2 2 2 6 2 1 5 2 4 3 3 4 3 5 3 2 2 1 5 2 4 3 3 2 1 2 3 3 1 1 2 1 1 1 4 2 3 0 1 4 2 2 3 4 1 1 2 2 2 3 2 2 1 3 6 1 2 5 4 1 2 1 4 2 4 4 5 2 1 1 5 2 4 4 1 2 1 5 3 1 3 1 2 2 1 1 3 4 4 2 2 7 1 3 2 3 1 2 2 5 2 1 1 3 3 5 1 2 4 3 2 0 2 2 2 1 3 2 1 3 3 5 4 2 3 2 4 2 4 1 2 2 3 2 4 2 2 4 1 4 2 2 0 3 2 1 3 3 4 1 0 2 2 0 1 2 3 2 2 3 2 3 2 5 3 1 3 3 3 4 3 4 4 4 1 2 3 2 4 5 2 3 4 2 1 4 2 3 2 3 0 3 3 1 3 3 4 2 5 5 3 4 2 1 2 1 5 3 3 1 3 3 2 1 3 1 2 2 3 2 2 2 1 1 1 3 2 1 4 2 3 4 2 1 3 3 2 3 3 2 2 3 2 3 4 2 4 3 1 5 4 3 2 3 0 4 1 1 4 4 1 3 0 1 4 4 2 2 2 2 4 3 3 0 1 4 3 5 3 1 2 1 3 4 5 2 3 5 2 3 5 3 4 2 3 4 2 1 2 1 2 3 3 2 2 4 4 1 2 2 1 2 1 2 4 4 4 2 2 4 2 3 1 2 3 3 3 2\n",
      "C: 3 0 2 1 2 0 2 0 1 1 2 2 2 3 3 2 1 0 4 1 2 2 2 1 3 1 2 1 3 4 1 1 1 2 0 1 2 1 0 1 1 4 4 3 3 2 2 3 5 2 2 2 3 2 5 4 3 4 0 1 1 2 1 1 4 2 3 2 2 5 4 5 3 4 5 1 2 2 5 2 2 2 3 4 6 1 4 2 3 2 1 5 4 2 1 5 2 3 1 1 1 3 2 2 2 1 4 2 2 1 2 4 2 2 5 0 4 2 2 2 1 1 0 3 3 3 0 3 1 4 2 2 6 3 3 1 3 1 3 2 3 1 4 3 3 1 4 3 3 5 1 4 4 3 4 3 2 3 4 5 2 2 4 1 6 2 4 3 2 5 3 1 1 4 0 6 2 2 3 4 1 1 4 1 2 4 4 1 2 1 3 3 2 2 3 3 4 5 3 1 3 2 1 1 2 2 4 1 4 3 1 4 4 2 0 2 3 3 2 3 5 3 2 1 4 6 3 1 3 4 1 4 1 4 2 3 1 3 1 2 1 0 3 2 1 4 4 1 1 6 1 3 5 3 1 5 5 3 2 3 3 4 1 1 4 3 1 3 2 2 1 4 5 2 3 2 2 0 3 1 0 1 5 2 2 1 2 2 1 2 0 4 2 2 1 2 4 4 3 4 3 0 3 5 4 4 2 2 2 4 2 0 1 3 1 2 1 3 3 1 2 3 4 3 4 3 2 4 1 3 2 2 4 1 5 3 4 3 5 2 2 2 2 1 2 1 3 1 2 3 3 2 0 2 2 3 3 3 2 2 3 3 1 4 2 3 2 2 3 2 2 2 1 1 5 1 4 3 1 3 3 2 2 2 2 2 6 2 3 2 4 2 2 3 2 2 0 3 4 5 3 2 3 1 4 3 3 1 4 4 0 2 0 1 4 2 3 5 1 3 6 1 3 1 1 1 3 3 3 3 3 2 3 3 3 2 1 5 4 2 4 1 3 2 1 3 0 2 2 2 2 2 4 6 1 4 2 0 2 1 4 4 2 0 4 4 1 3 1 1 4 0 2 5 5 6 2 2 2 2 4 1 3 5 5 4 4 1 2 0 2 2 1 1 3 1 2 2 4 4 2 3 3 2 1 4 1 5 1 2 2 3 5 2 2 3 1 2 3 3 5 4 4 2 3 3 3 1 1 1 2 3 2 3 2 3 2 1 2 4 4 1 3 1 4 0 4 2 3 2 4 5 3 1 3 2 2 3 4 1 0 4 7 2 1 2 4 3 5 2 2 2 1 2 2 5 2 4 3 0 4 3 1 4 4 4 3 2 0 3 2 1 1 3 4 3 2 2 3 4 3 3 3 1 2 3 3 3 4 2 3 1 2 2 4 2 1 4 1 1 1 1 5 4 1 1 0 3 2 4 6 2 4 3 5 3 2 0 3 1 5 5 4 3 3 3 5 4 1 3 0 2 1 2 3 1 0 2 2 2 2 5 4 2 5 1 2 4 1 4 5 1 3 1 2 2 2 3 2 1 5 0 2 3 0 3 2 3 3 1 1 4 4 2 4 3 3 3 4 2 4 2 3 4 2 2 1 2 2 2 1 2 1 2 5 2 3 1 2 3 1 0 0 3 2 3 3 1 1 2 3 2 0 2 4 3 4 3 4 2 4 5 2 1 1 4 0 3 2 4 2 3 2 4 4 3 2 2 1 2 2 4 3 0 1 4 1 2 3 3 1 4 5 4 4 4 4 3 4 1 3 2 4 1 1 4 3 5 1 2 3 2 2 2 0 2 2 3 4 5 2 1 2 3 2 2 5 2 4 3 2 4 2 2 4 1 3 1 3 4 3 4 2 3 2 5 1 3 2 2 2 0 2 2 2 1 0 2 5 5 2 2 5 3 2 3 3 6 4 1 1 3 2 4 1 3 0 4 5 2 2 4 1 3 1 4 2 2 3 0 2 3 1 3 2 4 2 3 5 1 3 4 4 3 2 0 1 1 2 5 1 3 1 2 3 1 1 1 3 0 2 1 1 3 1 0 2 7 1 2 2 2 2\n",
      "G: 4 4 3 6 3 2 2 2 4 1 2 4 1 5 2 0 2 4 1 3 3 0 1 4 2 2 4 5 1 1 3 2 1 1 4 4 2 4 5 3 2 0 2 1 1 3 2 2 1 4 3 2 4 3 3 1 3 3 2 5 3 2 4 2 5 1 3 4 1 3 3 0 3 2 3 5 5 3 1 2 2 1 1 2 2 3 2 1 4 3 3 1 3 2 6 2 3 3 2 2 2 2 3 3 3 1 1 4 3 2 2 0 3 2 2 2 1 4 2 1 1 4 2 5 1 3 1 4 3 1 2 2 1 2 1 4 3 6 3 3 1 5 1 0 2 5 2 2 6 3 3 1 0 1 4 3 3 2 2 2 3 3 1 3 2 4 3 3 4 1 2 4 4 2 6 2 4 3 3 1 3 4 2 2 4 2 4 6 4 5 5 1 4 1 1 5 2 2 0 6 3 3 2 3 6 1 1 3 3 1 3 2 1 1 4 4 2 2 3 3 3 1 5 1 1 1 3 4 1 2 7 2 3 4 5 2 2 3 5 4 3 0 3 3 2 3 4 3 4 2 1 3 3 3 4 1 1 1 2 1 3 3 2 2 3 0 3 0 2 1 4 3 1 4 3 2 4 5 3 1 4 5 2 1 2 3 2 3 2 3 3 2 4 3 2 2 1 4 3 1 2 2 4 3 1 3 3 4 6 2 0 3 2 2 2 3 2 2 2 3 4 2 3 3 3 2 3 1 5 2 1 3 4 5 3 0 1 3 2 4 2 5 4 4 3 1 2 2 3 1 2 1 4 4 4 1 1 2 3 4 3 3 3 4 2 3 2 5 1 3 4 4 3 6 2 1 2 1 6 4 2 2 4 4 4 1 1 1 3 1 0 4 3 4 4 2 4 2 1 1 3 2 4 3 1 3 1 3 2 1 3 2 5 3 2 3 4 2 4 2 1 3 3 3 3 5 1 1 2 3 5 3 3 2 4 3 4 1 2 2 1 4 4 6 4 1 5 3 4 3 2 3 1 3 2 3 0 5 3 2 1 2 2 4 3 1 2 3 0 2 2 3 3 2 1 1 3 0 3 2 2 2 2 4 2 4 1 2 2 0 2 2 5 2 1 3 2 1 2 3 4 3 3 2 3 3 3 1 3 2 1 1 1 3 2 3 3 0 2 2 3 2 1 4 2 3 3 3 2 4 1 2 2 1 2 2 7 3 2 2 2 2 5 3 2 3 0 4 3 3 1 2 4 5 2 2 2 3 0 2 1 2 1 5 3 3 2 2 1 5 4 2 3 2 3 0 3 1 2 6 1 3 5 1 0 2 1 3 1 3 4 3 4 2 3 3 3 2 1 2 3 0 3 2 2 0 4 3 3 2 2 1 2 3 2 4 7 2 2 2 4 5 3 2 1 3 6 1 2 1 1 2 2 2 2 1 3 3 0 1 2 2 1 3 3 1 1 1 4 1 3 2 1 3 4 2 4 0 2 2 2 2 1 2 1 2 2 0 2 2 2 5 0 4 4 3 1 5 3 4 2 8 3 3 3 3 4 4 4 3 4 4 4 2 1 2 4 2 2 5 2 3 2 2 2 0 3 2 2 3 4 2 5 4 1 3 3 4 2 2 1 5 3 3 3 3 3 5 4 4 1 3 6 1 2 1 3 1 3 4 1 1 3 5 2 2 6 4 1 1 2 3 3 1 2 1 2 2 1 6 1 2 2 3 4 1 2 1 2 3 2 4 0 3 2 2 0 3 1 4 3 1 2 1 2 1 1 0 5 0 2 2 3 2 7 2 3 2 4 2 4 2 4 3 3 2 0 4 2 1 3 1 4 1 2 3 2 6 2 0 2 2 4 1 3 2 3 2 2 2 3 4 1 5 0 3 3 4 1 2 2 3 2 1 3 5 1 0 2 3 1 0 3 1 6 2 3 1 2 4 2 1 1 3 4 2 3 2 1 1 2 0 1 2 1 1 3 1 3 3 1 3 2 2 5 5 3 2 3 2 2 0 3 3 3 3 3 6 1 1 1 3 5 3 4 2 3 1 3 3 2 3 1\n",
      "T: 2 4 3 0 2 5 3 4 1 2 3 3 6 2 2 5 4 5 2 1 1 4 2 3 4 3 3 2 5 2 1 5 5 1 3 4 2 3 2 4 4 3 0 3 5 3 1 2 2 2 5 3 3 3 0 2 2 1 3 2 3 3 2 3 0 1 1 1 5 1 1 2 2 3 2 4 1 0 1 4 4 4 4 3 1 3 1 5 1 4 3 1 1 0 0 1 3 1 3 4 5 3 2 2 4 5 4 1 4 5 3 4 2 1 2 6 2 3 2 1 5 3 3 0 1 3 5 3 3 1 5 4 1 1 3 2 0 2 3 2 3 3 2 4 1 2 1 2 0 0 5 4 2 6 1 1 2 1 3 2 4 2 3 3 0 0 2 0 3 2 1 3 1 2 1 1 3 2 3 4 2 4 3 3 2 3 2 2 1 4 1 3 3 3 3 0 2 1 5 1 0 2 1 5 0 3 3 3 1 2 2 2 1 3 2 2 2 2 2 2 1 2 1 3 2 2 0 3 3 1 0 2 3 2 2 3 2 2 2 1 6 6 2 2 4 2 0 4 2 1 4 2 0 2 3 3 2 5 3 3 3 1 4 4 2 4 3 4 2 4 1 0 0 3 4 1 1 3 2 5 4 3 1 5 5 3 3 3 2 2 5 1 2 4 3 4 3 2 1 1 2 5 3 0 3 3 3 3 1 1 4 1 3 3 6 4 4 2 3 2 0 3 2 2 2 4 3 3 3 1 4 2 2 1 0 5 4 4 1 4 3 1 0 3 3 4 2 7 1 4 3 2 2 2 2 3 5 2 4 1 4 3 3 1 4 4 4 2 2 1 3 3 4 2 1 5 2 3 1 0 3 2 2 2 4 3 1 5 1 2 1 2 2 3 2 4 6 2 1 2 1 1 3 2 2 2 2 4 1 1 4 3 3 3 2 4 1 1 4 5 2 4 2 4 2 2 5 1 1 2 1 3 1 3 2 2 2 1 2 3 3 2 2 2 2 4 2 3 2 2 4 1 2 1 3 2 6 2 4 3 2 3 1 3 3 3 2 2 4 3 2 5 2 1 3 1 2 7 2 3 2 2 2 1 1 1 2 1 1 6 2 2 4 5 2 4 4 4 2 3 2 3 2 6 2 1 3 3 2 1 3 2 2 2 3 2 1 2 3 4 2 2 3 4 2 3 2 2 6 3 5 3 2 2 3 1 0 4 2 3 2 5 0 2 3 5 3 1 1 2 0 1 1 2 2 4 3 3 6 2 5 3 0 2 3 3 2 4 2 2 3 3 3 4 2 2 2 5 2 4 2 4 2 0 4 2 4 3 3 2 3 1 3 1 0 1 1 3 1 1 2 5 3 2 4 3 0 1 1 5 3 5 3 4 3 2 1 3 6 3 3 1 2 3 4 4 2 3 2 4 2 4 2 3 0 4 3 6 4 2 2 1 0 0 3 4 3 1 3 2 3 1 6 4 2 2 4 4 2 5 4 2 0 3 3 4 5 4 5 3 2 1 3 1 2 3 0 1 2 3 0 1 3 2 2 2 3 2 0 3 0 1 0 2 2 3 3 3 2 1 3 2 3 3 3 5 1 2 4 2 3 2 2 0 3 3 2 2 4 1 6 3 3 3 1 2 2 4 2 2 5 2 1 3 3 6 1 4 3 3 3 1 3 2 4 2 1 1 2 2 5 1 2 2 0 3 2 2 4 1 5 1 3 3 0 3 4 3 3 3 3 0 2 1 1 4 3 1 4 2 1 3 2 3 2 2 2 3 3 6 4 1 2 3 2 3 2 3 1 0 3 5 2 1 3 4 3 3 3 5 2 3 3 3 2 3 1 1 4 3 2 2 1 3 3 1 3 3 3 2 3 2 4 2 3 2 4 2 1 3 2 4 2 2 1 1 3 4 3 2 4 5 3 3 1 1 4 2 3 3 2 2 3 1 4 2 4 3 2 4 4 4 3 3 4 0 2 2 0 3 2 1 3 3 2 3 3 4 3 1 3 3 5 3 2 5 4 2 4 5 3 2 2 2 1 6 2 1 4 2 3 2 5\n",
      "\n"
     ],
     "output_type": "stream"
    }
   ],
   "source": [
    "import pandas as pd\n",
    "content = get_file_content(\"data/10_consensus_and_profile.txt\")\n",
    "splited = content.strip().split(\">\")\n",
    "pairwise = [x.strip()[x.strip().find(\"\\n\")+1::].replace(\"\\n\", \"\") for x in splited if x != \"\"]\n",
    "letters = [\"A\", \"C\", \"T\", \"G\"]\n",
    "df = pd.DataFrame(pairwise, columns=[\"full\"]);\n",
    "\n",
    "# Optional values columns with value counts\n",
    "# df[\"A\"] = df[\"full\"].str.count(\"A\")\n",
    "# df[\"С\"] = df[\"full\"].str.count(\"C\")\n",
    "# df[\"Т\"] = df[\"full\"].str.count(\"T\")\n",
    "# df[\"G\"] = df[\"full\"].str.count(\"G\")\n",
    "\n",
    "df_by_letters =df[\"full\"].apply(lambda x: pd.Series(list(x)))\n",
    "#df = pd.concat([df, df_by_letters],axis=1)\n",
    "\n",
    "consensus = df_by_letters.mode().transpose()\n",
    "\n",
    "result_consensus = \"\".join(consensus[0])\n",
    "\n",
    "\n",
    "df = df.drop(columns=[\"full\"])\n",
    "\n",
    "profile = df_by_letters.apply(pd.value_counts).fillna(0).astype(int)\n",
    "result_profile = \"\"\n",
    "for i in range(len(profile)):\n",
    "    index_value = profile.index[i]\n",
    "    result_profile += (index_value + \": \" + \" \".join(profile.loc[index_value].astype(str).values))\n",
    "    result_profile += \"\\n\"\n",
    "print(result_consensus)\n",
    "print(result_profile)\n",
    "\n"
   ],
   "metadata": {
    "collapsed": false,
    "pycharm": {
     "name": "#%%\n",
     "is_executing": false
    }
   }
  },
  {
   "cell_type": "markdown",
   "source": [
    "# 11.Mortal Fibonacci"
   ],
   "metadata": {
    "collapsed": false,
    "pycharm": {
     "name": "#%% md\n",
     "is_executing": false
    }
   }
  },
  {
   "cell_type": "code",
   "execution_count": 13,
   "outputs": [
    {
     "name": "stdout",
     "text": [
      "61190227951392303\n"
     ],
     "output_type": "stream"
    }
   ],
   "source": [
    "import sys\n",
    "content = get_file_content(\"data/11_mortal.txt\")\n",
    "n,m=list(map(int,content.split(\" \")))\n",
    "res=[1,1,1]\n",
    "if (n>3):\n",
    "    for i in range(3,(n+1)):\n",
    "        if i>m:\n",
    "            res.append(res[i-2]+res[i-1]-res[i-m-1])\n",
    "        else:\n",
    "            res.append(res[i-2]+res[i-1])\n",
    "print(res[n],file=stream)"
   ],
   "metadata": {
    "collapsed": false,
    "pycharm": {
     "name": "#%%\n",
     "is_executing": false
    }
   }
  },
  {
   "cell_type": "markdown",
   "source": [
    "# 12.Overlap Graphs"
   ],
   "metadata": {
    "collapsed": false,
    "pycharm": {
     "name": "#%% md\n",
     "is_executing": false
    }
   }
  },
  {
   "cell_type": "code",
   "execution_count": 15,
   "outputs": [
    {
     "name": "stdout",
     "text": [
      "Rosalind_7482 Rosalind_8857\n",
      "Rosalind_3340 Rosalind_2188\n",
      "Rosalind_4312 Rosalind_4608\n",
      "Rosalind_5808 Rosalind_6642\n",
      "Rosalind_4543 Rosalind_0620\n",
      "Rosalind_7031 Rosalind_4433\n",
      "Rosalind_8087 Rosalind_0430\n",
      "Rosalind_9750 Rosalind_7000\n",
      "Rosalind_7609 Rosalind_4799\n",
      "Rosalind_4799 Rosalind_8793\n",
      "Rosalind_4799 Rosalind_1853\n",
      "Rosalind_0122 Rosalind_3861\n",
      "Rosalind_3828 Rosalind_7182\n",
      "Rosalind_8087 Rosalind_8885\n",
      "Rosalind_4986 Rosalind_2334\n",
      "Rosalind_7000 Rosalind_5808\n",
      "Rosalind_7000 Rosalind_4164\n",
      "Rosalind_8367 Rosalind_4164\n",
      "Rosalind_2114 Rosalind_4312\n",
      "Rosalind_2271 Rosalind_5118\n",
      "Rosalind_8134 Rosalind_4936\n",
      "Rosalind_2594 Rosalind_5677\n",
      "Rosalind_8367 Rosalind_5808\n",
      "Rosalind_8857 Rosalind_5504\n",
      "Rosalind_3112 Rosalind_9537\n",
      "Rosalind_7626 Rosalind_6085\n",
      "Rosalind_8932 Rosalind_3823\n",
      "Rosalind_6642 Rosalind_9345\n",
      "Rosalind_0572 Rosalind_0972\n",
      "Rosalind_2114 Rosalind_9537\n",
      "Rosalind_5445 Rosalind_4238\n",
      "Rosalind_3823 Rosalind_3831\n",
      "Rosalind_1128 Rosalind_7609\n",
      "Rosalind_8765 Rosalind_9869\n",
      "Rosalind_7904 Rosalind_8134\n",
      "Rosalind_9750 Rosalind_8932\n",
      "Rosalind_0430 Rosalind_4838\n",
      "Rosalind_6133 Rosalind_6642\n",
      "Rosalind_3828 Rosalind_4799\n",
      "Rosalind_2594 Rosalind_9481\n",
      "Rosalind_8857 Rosalind_0591\n",
      "Rosalind_5826 Rosalind_5118\n",
      "Rosalind_2258 Rosalind_0122\n",
      "Rosalind_8765 Rosalind_6055\n",
      "Rosalind_2114 Rosalind_8087\n",
      "Rosalind_6126 Rosalind_1981\n",
      "Rosalind_1853 Rosalind_0526\n",
      "Rosalind_8885 Rosalind_1711\n",
      "Rosalind_2817 Rosalind_5684\n",
      "Rosalind_4678 Rosalind_7920\n",
      "Rosalind_1853 Rosalind_5844\n",
      "Rosalind_2334 Rosalind_1111\n",
      "Rosalind_2258 Rosalind_2334\n",
      "Rosalind_0014 Rosalind_5445\n",
      "Rosalind_3598 Rosalind_0714\n",
      "Rosalind_5844 Rosalind_6702\n",
      "Rosalind_9516 Rosalind_9940\n",
      "Rosalind_3340 Rosalind_8765\n",
      "Rosalind_5118 Rosalind_6085\n",
      "Rosalind_5445 Rosalind_7609\n",
      "Rosalind_4799 Rosalind_7429\n",
      "Rosalind_8087 Rosalind_4986\n",
      "Rosalind_2406 Rosalind_7482\n",
      "Rosalind_4608 Rosalind_9312\n",
      "Rosalind_1711 Rosalind_8866\n",
      "Rosalind_8986 Rosalind_7920\n",
      "Rosalind_1853 Rosalind_8589\n",
      "Rosalind_9172 Rosalind_8857\n",
      "Rosalind_5445 Rosalind_1128\n",
      "Rosalind_1130 Rosalind_5931\n",
      "Rosalind_8866 Rosalind_9312\n",
      "Rosalind_4936 Rosalind_3831\n",
      "Rosalind_7429 Rosalind_3340\n",
      "Rosalind_9750 Rosalind_6126\n",
      "Rosalind_2616 Rosalind_5504\n",
      "Rosalind_5808 Rosalind_4543\n",
      "Rosalind_6699 Rosalind_2594\n",
      "Rosalind_7920 Rosalind_9312\n",
      "Rosalind_2267 Rosalind_0014\n",
      "Rosalind_9172 Rosalind_2837\n",
      "Rosalind_0430 Rosalind_7818\n",
      "Rosalind_1981 Rosalind_9869\n",
      "Rosalind_6133 Rosalind_4543\n",
      "Rosalind_3598 Rosalind_8090\n",
      "Rosalind_1981 Rosalind_6055\n",
      "Rosalind_0572 Rosalind_8367\n",
      "Rosalind_9172 Rosalind_5826\n",
      "Rosalind_2406 Rosalind_9345\n",
      "Rosalind_3112 Rosalind_8087\n",
      "Rosalind_4838 Rosalind_5445\n",
      "Rosalind_4238 Rosalind_2406\n",
      "Rosalind_7482 Rosalind_3150\n",
      "Rosalind_7818 Rosalind_6055\n",
      "Rosalind_9207 Rosalind_8866\n",
      "Rosalind_9172 Rosalind_3150\n",
      "Rosalind_5504 Rosalind_8134\n",
      "Rosalind_8090 Rosalind_7031\n",
      "Rosalind_8367 Rosalind_9207\n",
      "Rosalind_4312 Rosalind_8765\n",
      "Rosalind_8793 Rosalind_2594\n",
      "Rosalind_9345 Rosalind_7920\n",
      "Rosalind_9879 Rosalind_5118\n",
      "Rosalind_1825 Rosalind_0714\n",
      "Rosalind_4543 Rosalind_2267\n",
      "Rosalind_1825 Rosalind_8090\n",
      "Rosalind_0591 Rosalind_9516\n",
      "Rosalind_4164 Rosalind_3598\n",
      "Rosalind_2406 Rosalind_6699\n",
      "Rosalind_7482 Rosalind_5826\n",
      "Rosalind_9869 Rosalind_4678\n",
      "Rosalind_3340 Rosalind_4608\n",
      "Rosalind_6642 Rosalind_7482\n",
      "Rosalind_7609 Rosalind_7182\n",
      "Rosalind_6702 Rosalind_8134\n",
      "Rosalind_0714 Rosalind_3828\n",
      "Rosalind_9869 Rosalind_9172\n",
      "Rosalind_1711 Rosalind_4936\n",
      "Rosalind_3150 Rosalind_5118\n",
      "Rosalind_4549 Rosalind_9312\n",
      "Rosalind_4238 Rosalind_9750\n",
      "Rosalind_8134 Rosalind_8866\n",
      "Rosalind_4433 Rosalind_2594\n",
      "Rosalind_2817 Rosalind_2271\n",
      "Rosalind_0122 Rosalind_9516\n",
      "Rosalind_6126 Rosalind_1711\n",
      "Rosalind_9869 Rosalind_3364\n",
      "Rosalind_0526 Rosalind_4433\n",
      "Rosalind_2594 Rosalind_3112\n",
      "Rosalind_3861 Rosalind_5684\n",
      "Rosalind_2837 Rosalind_0591\n",
      "Rosalind_4312 Rosalind_2188\n",
      "Rosalind_0591 Rosalind_3861\n",
      "Rosalind_4543 Rosalind_8986\n",
      "Rosalind_7482 Rosalind_2837\n",
      "Rosalind_4986 Rosalind_0122\n",
      "Rosalind_9869 Rosalind_4549\n",
      "Rosalind_7000 Rosalind_9207\n",
      "Rosalind_0972 Rosalind_0572\n",
      "Rosalind_6642 Rosalind_6699\n",
      "Rosalind_1128 Rosalind_4238\n",
      "Rosalind_7818 Rosalind_9869\n",
      "Rosalind_3112 Rosalind_4312\n",
      "Rosalind_9207 Rosalind_4936\n",
      "Rosalind_0714 Rosalind_7031\n",
      "Rosalind_8885 Rosalind_1981\n",
      "Rosalind_2267 Rosalind_1825\n",
      "Rosalind_0572 Rosalind_9879\n",
      "Rosalind_2616 Rosalind_0591\n",
      "Rosalind_3861 Rosalind_2271\n",
      "Rosalind_2837 Rosalind_5504\n",
      "Rosalind_5931 Rosalind_2616\n",
      "Rosalind_8932 Rosalind_7626\n",
      "Rosalind_0620 Rosalind_8134\n",
      "Rosalind_8090 Rosalind_3828\n"
     ],
     "output_type": "stream"
    }
   ],
   "source": [
    "\n",
    "content = get_file_content(\"data/12_overlap_graph.txt\")\n",
    "splited = content.strip().split(\">\")\n",
    "pairwise = [ (x[:x.find(\"\\n\")], x[x.find(\"\\n\")+1::].replace(\"\\n\", \"\")) for x in splited if x != \"\"]\n",
    "edges =set()\n",
    "k=3\n",
    "for i in range(0,len(pairwise)):\n",
    "    for j in range(0,len(pairwise)):\n",
    "        if i!=j and pairwise[i][1][0:k]==pairwise[j][1][-k:]:\n",
    "            edges.add(pairwise[j][0] + \" \" + pairwise[i][0])\n",
    "print(\"\\n\".join([n for n in edges]))   "
   ],
   "metadata": {
    "collapsed": false,
    "pycharm": {
     "name": "#%%\n",
     "is_executing": false
    }
   }
  },
  {
   "cell_type": "markdown",
   "source": [
    "# 13.Expected offspring"
   ],
   "metadata": {
    "collapsed": false,
    "pycharm": {
     "name": "#%% md\n"
    }
   }
  },
  {
   "cell_type": "code",
   "execution_count": 18,
   "outputs": [
    {
     "name": "stdout",
     "text": [
      "153288.5\n"
     ],
     "output_type": "stream"
    }
   ],
   "source": [
    "#phenotypes: a=1, A=0, AA-AA = 0, Aa-Aa=0101b=5\n",
    "pheno_prob = [\n",
    "    1, # AAAA\n",
    "    1, # AAAa\n",
    "    1, # AAaa\n",
    "    0.75, # AaAa\n",
    "    0.5, #Aaaa\n",
    "    0   #aaaa \n",
    "]\n",
    "import sys\n",
    "content = get_file_content(\"data/13_expected_offspring.txt\")\n",
    "n_pairs=list(map(int,content.split(\" \")))\n",
    "n_ofsp= 2\n",
    "expected=0\n",
    "for i in range(0,len(n_pairs)):\n",
    "    expected += pheno_prob[i]*(n_pairs[i]*n_ofsp)\n",
    "print(expected)"
   ],
   "metadata": {
    "collapsed": false,
    "pycharm": {
     "name": "#%%\n",
     "is_executing": false
    }
   }
  },
  {
   "cell_type": "markdown",
   "source": [
    "# 14.Longest common substring"
   ],
   "metadata": {
    "collapsed": false,
    "pycharm": {
     "name": "#%% md\n"
    }
   }
  },
  {
   "cell_type": "code",
   "execution_count": 23,
   "outputs": [
    {
     "name": "stdout",
     "text": [
      "TAATCCGATACACATGGTCACTCACCTGACACTTCTATGGATCC\n"
     ],
     "output_type": "stream"
    }
   ],
   "source": [
    "content = get_file_content(\"data/14_longest_common_substring.txt\")\n",
    "splited = content.strip().split(\">\")\n",
    "pairwise = [  x[x.find(\"\\n\")+1::].replace(\"\\n\", \"\") for x in splited if x != \"\"]\n",
    "\n",
    "\n",
    "# Python 3 program to find the stem  \n",
    "# of given list of words \n",
    "  \n",
    "# function to find the stem (longest  \n",
    "# common substring) from the string array \n",
    "def findstem(arr): \n",
    "  \n",
    "    # Determine size of the array \n",
    "    n = len(arr) \n",
    "  \n",
    "    # Take first word from array  \n",
    "    # as reference \n",
    "    s = arr[0] \n",
    "    first_len = len(s) \n",
    "  \n",
    "    res = \"\" \n",
    "    for ind1 in range(first_len) : \n",
    "        for ind2 in range( ind1 + 1, first_len + 1) : \n",
    "            # generating all possible substrings \n",
    "            # of our reference string arr[0] i.e s \n",
    "            candidate = s[ind1:ind2] \n",
    "            matched = 0\n",
    "            for k in range(1, n):  \n",
    "                # Check if the generated stem is \n",
    "                # common to all words \n",
    "                if candidate in arr[k]:\n",
    "                    matched +=1\n",
    "                else:\n",
    "                    break \n",
    "            # If current substring is present in \n",
    "            # all strings and its length is greater  \n",
    "            # than current result \n",
    "            if (matched + 1 == n and len(res) < len(candidate)): \n",
    "                res = candidate \n",
    "  \n",
    "    return res \n",
    "\n",
    "stems = findstem(pairwise) \n",
    "print(stems) "
   ],
   "metadata": {
    "collapsed": false,
    "pycharm": {
     "name": "#%%\n",
     "is_executing": false
    }
   }
  },
  {
   "cell_type": "markdown",
   "source": [
    "# 15.Mendel's second law"
   ],
   "metadata": {
    "collapsed": false,
    "pycharm": {
     "name": "#%% md\n"
    }
   }
  },
  {
   "cell_type": "code",
   "execution_count": 31,
   "outputs": [
    {
     "name": "stdout",
     "text": [
      "0.66\n"
     ],
     "output_type": "stream"
    }
   ],
   "source": [
    "import math                                                                    \n",
    "\n",
    "content = get_file_content(\"data/15_mendel_second.txt\")\n",
    "k, N = list(map(int,content.split(\" \")))                                                                       \n",
    "P = 2**k                                                                       \n",
    "probability = 0                                                                \n",
    "for i in range(N, P + 1):                                                      \n",
    "    prob = (math.factorial(P) /                                                \n",
    "            (math.factorial(i) * math.factorial(P - i))) * (0.25**i) * (0.75**(P - i))                                                        \n",
    "    probability += prob                                                        \n",
    "print(round(probability,3))     "
   ],
   "metadata": {
    "collapsed": false,
    "pycharm": {
     "name": "#%%\n",
     "is_executing": false
    }
   }
  },
  {
   "cell_type": "code",
   "execution_count": null,
   "outputs": [],
   "source": [
    "\n"
   ],
   "metadata": {
    "collapsed": false,
    "pycharm": {
     "name": "#%%\n"
    }
   }
  }
 ],
 "metadata": {
  "kernelspec": {
   "display_name": "Python 3",
   "language": "python",
   "name": "python3"
  },
  "language_info": {
   "codemirror_mode": {
    "name": "ipython",
    "version": 2
   },
   "file_extension": ".py",
   "mimetype": "text/x-python",
   "name": "python",
   "nbconvert_exporter": "python",
   "pygments_lexer": "ipython2",
   "version": "2.7.6"
  },
  "pycharm": {
   "stem_cell": {
    "cell_type": "raw",
    "source": [],
    "metadata": {
     "collapsed": false
    }
   }
  }
 },
 "nbformat": 4,
 "nbformat_minor": 0
}